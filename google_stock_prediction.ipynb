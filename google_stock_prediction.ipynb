{
  "nbformat": 4,
  "nbformat_minor": 0,
  "metadata": {
    "colab": {
      "provenance": [],
      "authorship_tag": "ABX9TyPzA1M4Z8DDhn+m/5kRs35p",
      "include_colab_link": true
    },
    "kernelspec": {
      "name": "python3",
      "display_name": "Python 3"
    },
    "language_info": {
      "name": "python"
    }
  },
  "cells": [
    {
      "cell_type": "markdown",
      "metadata": {
        "id": "view-in-github",
        "colab_type": "text"
      },
      "source": [
        "<a href=\"https://colab.research.google.com/github/ojhaajy/Tesla_Stock_Prediction/blob/main/google_stock_prediction.ipynb\" target=\"_parent\"><img src=\"https://colab.research.google.com/assets/colab-badge.svg\" alt=\"Open In Colab\"/></a>"
      ]
    },
    {
      "cell_type": "code",
      "source": [
        "# This Python 3 environment comes with many helpful analytics libraries installed\n",
        "# It is defined by the kaggle/python docker image: https://github.com/kaggle/docker-python\n",
        "# For example, here's several helpful packages to load in \n",
        "\n",
        "import numpy as np # linear algebra\n",
        "import pandas as pd # data processing, CSV file I/O (e.g. pd.read_csv)\n",
        "import matplotlib.pyplot as plt\n",
        "\n",
        "# Input data files are available in the \"../input/\" directory.\n",
        "# For example, running this (by clicking run or pressing Shift+Enter) will list the files in the input directory\n",
        "\n",
        "import os\n",
        "\n",
        "# Any results you write to the current directory are saved as output."
      ],
      "metadata": {
        "id": "BKmUgQ7v5n6r"
      },
      "execution_count": 27,
      "outputs": []
    },
    {
      "cell_type": "code",
      "source": [
        "dataset_train = pd.read_csv(\"trainset.csv\")"
      ],
      "metadata": {
        "id": "fbQgOEEY5rWD"
      },
      "execution_count": 28,
      "outputs": []
    },
    {
      "cell_type": "code",
      "source": [
        "dataset_train"
      ],
      "metadata": {
        "colab": {
          "base_uri": "https://localhost:8080/",
          "height": 424
        },
        "id": "BJiK21vy51hr",
        "outputId": "b1cb516b-53a4-4d1c-96cf-8c5e416d6cb2"
      },
      "execution_count": 29,
      "outputs": [
        {
          "output_type": "execute_result",
          "data": {
            "text/plain": [
              "            Date         Open         High          Low        Close  \\\n",
              "0     2013-01-02   357.385559   361.151062   355.959839   359.288177   \n",
              "1     2013-01-03   360.122742   363.600128   358.031342   359.496826   \n",
              "2     2013-01-04   362.313507   368.339294   361.488861   366.600616   \n",
              "3     2013-01-07   365.348755   367.301056   362.929504   365.001007   \n",
              "4     2013-01-08   365.393463   365.771027   359.874359   364.280701   \n",
              "...          ...          ...          ...          ...          ...   \n",
              "1254  2017-12-22  1061.109985  1064.199951  1059.439941  1060.119995   \n",
              "1255  2017-12-26  1058.069946  1060.119995  1050.199951  1056.739990   \n",
              "1256  2017-12-27  1057.390015  1058.369995  1048.050049  1049.369995   \n",
              "1257  2017-12-28  1051.599976  1054.750000  1044.770020  1048.140015   \n",
              "1258  2017-12-29  1046.719971  1049.699951  1044.900024  1046.400024   \n",
              "\n",
              "        Adj Close   Volume  \n",
              "0      359.288177  5115500  \n",
              "1      359.496826  4666500  \n",
              "2      366.600616  5562800  \n",
              "3      365.001007  3332900  \n",
              "4      364.280701  3373900  \n",
              "...           ...      ...  \n",
              "1254  1060.119995   755100  \n",
              "1255  1056.739990   760600  \n",
              "1256  1049.369995  1271900  \n",
              "1257  1048.140015   837100  \n",
              "1258  1046.400024   887500  \n",
              "\n",
              "[1259 rows x 7 columns]"
            ],
            "text/html": [
              "\n",
              "  <div id=\"df-1dbe4897-9344-447d-921d-2207e89daeff\">\n",
              "    <div class=\"colab-df-container\">\n",
              "      <div>\n",
              "<style scoped>\n",
              "    .dataframe tbody tr th:only-of-type {\n",
              "        vertical-align: middle;\n",
              "    }\n",
              "\n",
              "    .dataframe tbody tr th {\n",
              "        vertical-align: top;\n",
              "    }\n",
              "\n",
              "    .dataframe thead th {\n",
              "        text-align: right;\n",
              "    }\n",
              "</style>\n",
              "<table border=\"1\" class=\"dataframe\">\n",
              "  <thead>\n",
              "    <tr style=\"text-align: right;\">\n",
              "      <th></th>\n",
              "      <th>Date</th>\n",
              "      <th>Open</th>\n",
              "      <th>High</th>\n",
              "      <th>Low</th>\n",
              "      <th>Close</th>\n",
              "      <th>Adj Close</th>\n",
              "      <th>Volume</th>\n",
              "    </tr>\n",
              "  </thead>\n",
              "  <tbody>\n",
              "    <tr>\n",
              "      <th>0</th>\n",
              "      <td>2013-01-02</td>\n",
              "      <td>357.385559</td>\n",
              "      <td>361.151062</td>\n",
              "      <td>355.959839</td>\n",
              "      <td>359.288177</td>\n",
              "      <td>359.288177</td>\n",
              "      <td>5115500</td>\n",
              "    </tr>\n",
              "    <tr>\n",
              "      <th>1</th>\n",
              "      <td>2013-01-03</td>\n",
              "      <td>360.122742</td>\n",
              "      <td>363.600128</td>\n",
              "      <td>358.031342</td>\n",
              "      <td>359.496826</td>\n",
              "      <td>359.496826</td>\n",
              "      <td>4666500</td>\n",
              "    </tr>\n",
              "    <tr>\n",
              "      <th>2</th>\n",
              "      <td>2013-01-04</td>\n",
              "      <td>362.313507</td>\n",
              "      <td>368.339294</td>\n",
              "      <td>361.488861</td>\n",
              "      <td>366.600616</td>\n",
              "      <td>366.600616</td>\n",
              "      <td>5562800</td>\n",
              "    </tr>\n",
              "    <tr>\n",
              "      <th>3</th>\n",
              "      <td>2013-01-07</td>\n",
              "      <td>365.348755</td>\n",
              "      <td>367.301056</td>\n",
              "      <td>362.929504</td>\n",
              "      <td>365.001007</td>\n",
              "      <td>365.001007</td>\n",
              "      <td>3332900</td>\n",
              "    </tr>\n",
              "    <tr>\n",
              "      <th>4</th>\n",
              "      <td>2013-01-08</td>\n",
              "      <td>365.393463</td>\n",
              "      <td>365.771027</td>\n",
              "      <td>359.874359</td>\n",
              "      <td>364.280701</td>\n",
              "      <td>364.280701</td>\n",
              "      <td>3373900</td>\n",
              "    </tr>\n",
              "    <tr>\n",
              "      <th>...</th>\n",
              "      <td>...</td>\n",
              "      <td>...</td>\n",
              "      <td>...</td>\n",
              "      <td>...</td>\n",
              "      <td>...</td>\n",
              "      <td>...</td>\n",
              "      <td>...</td>\n",
              "    </tr>\n",
              "    <tr>\n",
              "      <th>1254</th>\n",
              "      <td>2017-12-22</td>\n",
              "      <td>1061.109985</td>\n",
              "      <td>1064.199951</td>\n",
              "      <td>1059.439941</td>\n",
              "      <td>1060.119995</td>\n",
              "      <td>1060.119995</td>\n",
              "      <td>755100</td>\n",
              "    </tr>\n",
              "    <tr>\n",
              "      <th>1255</th>\n",
              "      <td>2017-12-26</td>\n",
              "      <td>1058.069946</td>\n",
              "      <td>1060.119995</td>\n",
              "      <td>1050.199951</td>\n",
              "      <td>1056.739990</td>\n",
              "      <td>1056.739990</td>\n",
              "      <td>760600</td>\n",
              "    </tr>\n",
              "    <tr>\n",
              "      <th>1256</th>\n",
              "      <td>2017-12-27</td>\n",
              "      <td>1057.390015</td>\n",
              "      <td>1058.369995</td>\n",
              "      <td>1048.050049</td>\n",
              "      <td>1049.369995</td>\n",
              "      <td>1049.369995</td>\n",
              "      <td>1271900</td>\n",
              "    </tr>\n",
              "    <tr>\n",
              "      <th>1257</th>\n",
              "      <td>2017-12-28</td>\n",
              "      <td>1051.599976</td>\n",
              "      <td>1054.750000</td>\n",
              "      <td>1044.770020</td>\n",
              "      <td>1048.140015</td>\n",
              "      <td>1048.140015</td>\n",
              "      <td>837100</td>\n",
              "    </tr>\n",
              "    <tr>\n",
              "      <th>1258</th>\n",
              "      <td>2017-12-29</td>\n",
              "      <td>1046.719971</td>\n",
              "      <td>1049.699951</td>\n",
              "      <td>1044.900024</td>\n",
              "      <td>1046.400024</td>\n",
              "      <td>1046.400024</td>\n",
              "      <td>887500</td>\n",
              "    </tr>\n",
              "  </tbody>\n",
              "</table>\n",
              "<p>1259 rows × 7 columns</p>\n",
              "</div>\n",
              "      <button class=\"colab-df-convert\" onclick=\"convertToInteractive('df-1dbe4897-9344-447d-921d-2207e89daeff')\"\n",
              "              title=\"Convert this dataframe to an interactive table.\"\n",
              "              style=\"display:none;\">\n",
              "        \n",
              "  <svg xmlns=\"http://www.w3.org/2000/svg\" height=\"24px\"viewBox=\"0 0 24 24\"\n",
              "       width=\"24px\">\n",
              "    <path d=\"M0 0h24v24H0V0z\" fill=\"none\"/>\n",
              "    <path d=\"M18.56 5.44l.94 2.06.94-2.06 2.06-.94-2.06-.94-.94-2.06-.94 2.06-2.06.94zm-11 1L8.5 8.5l.94-2.06 2.06-.94-2.06-.94L8.5 2.5l-.94 2.06-2.06.94zm10 10l.94 2.06.94-2.06 2.06-.94-2.06-.94-.94-2.06-.94 2.06-2.06.94z\"/><path d=\"M17.41 7.96l-1.37-1.37c-.4-.4-.92-.59-1.43-.59-.52 0-1.04.2-1.43.59L10.3 9.45l-7.72 7.72c-.78.78-.78 2.05 0 2.83L4 21.41c.39.39.9.59 1.41.59.51 0 1.02-.2 1.41-.59l7.78-7.78 2.81-2.81c.8-.78.8-2.07 0-2.86zM5.41 20L4 18.59l7.72-7.72 1.47 1.35L5.41 20z\"/>\n",
              "  </svg>\n",
              "      </button>\n",
              "      \n",
              "  <style>\n",
              "    .colab-df-container {\n",
              "      display:flex;\n",
              "      flex-wrap:wrap;\n",
              "      gap: 12px;\n",
              "    }\n",
              "\n",
              "    .colab-df-convert {\n",
              "      background-color: #E8F0FE;\n",
              "      border: none;\n",
              "      border-radius: 50%;\n",
              "      cursor: pointer;\n",
              "      display: none;\n",
              "      fill: #1967D2;\n",
              "      height: 32px;\n",
              "      padding: 0 0 0 0;\n",
              "      width: 32px;\n",
              "    }\n",
              "\n",
              "    .colab-df-convert:hover {\n",
              "      background-color: #E2EBFA;\n",
              "      box-shadow: 0px 1px 2px rgba(60, 64, 67, 0.3), 0px 1px 3px 1px rgba(60, 64, 67, 0.15);\n",
              "      fill: #174EA6;\n",
              "    }\n",
              "\n",
              "    [theme=dark] .colab-df-convert {\n",
              "      background-color: #3B4455;\n",
              "      fill: #D2E3FC;\n",
              "    }\n",
              "\n",
              "    [theme=dark] .colab-df-convert:hover {\n",
              "      background-color: #434B5C;\n",
              "      box-shadow: 0px 1px 3px 1px rgba(0, 0, 0, 0.15);\n",
              "      filter: drop-shadow(0px 1px 2px rgba(0, 0, 0, 0.3));\n",
              "      fill: #FFFFFF;\n",
              "    }\n",
              "  </style>\n",
              "\n",
              "      <script>\n",
              "        const buttonEl =\n",
              "          document.querySelector('#df-1dbe4897-9344-447d-921d-2207e89daeff button.colab-df-convert');\n",
              "        buttonEl.style.display =\n",
              "          google.colab.kernel.accessAllowed ? 'block' : 'none';\n",
              "\n",
              "        async function convertToInteractive(key) {\n",
              "          const element = document.querySelector('#df-1dbe4897-9344-447d-921d-2207e89daeff');\n",
              "          const dataTable =\n",
              "            await google.colab.kernel.invokeFunction('convertToInteractive',\n",
              "                                                     [key], {});\n",
              "          if (!dataTable) return;\n",
              "\n",
              "          const docLinkHtml = 'Like what you see? Visit the ' +\n",
              "            '<a target=\"_blank\" href=https://colab.research.google.com/notebooks/data_table.ipynb>data table notebook</a>'\n",
              "            + ' to learn more about interactive tables.';\n",
              "          element.innerHTML = '';\n",
              "          dataTable['output_type'] = 'display_data';\n",
              "          await google.colab.output.renderOutput(dataTable, element);\n",
              "          const docLink = document.createElement('div');\n",
              "          docLink.innerHTML = docLinkHtml;\n",
              "          element.appendChild(docLink);\n",
              "        }\n",
              "      </script>\n",
              "    </div>\n",
              "  </div>\n",
              "  "
            ]
          },
          "metadata": {},
          "execution_count": 29
        }
      ]
    },
    {
      "cell_type": "code",
      "source": [
        "trainset = dataset_train.iloc[:,1:2].values"
      ],
      "metadata": {
        "id": "LK272DqH54Kp"
      },
      "execution_count": 30,
      "outputs": []
    },
    {
      "cell_type": "code",
      "source": [
        "trainset"
      ],
      "metadata": {
        "colab": {
          "base_uri": "https://localhost:8080/"
        },
        "id": "lHMrSxx5566i",
        "outputId": "52682b31-621d-4535-b598-a058c9c1def7"
      },
      "execution_count": 31,
      "outputs": [
        {
          "output_type": "execute_result",
          "data": {
            "text/plain": [
              "array([[ 357.385559],\n",
              "       [ 360.122742],\n",
              "       [ 362.313507],\n",
              "       ...,\n",
              "       [1057.390015],\n",
              "       [1051.599976],\n",
              "       [1046.719971]])"
            ]
          },
          "metadata": {},
          "execution_count": 31
        }
      ]
    },
    {
      "cell_type": "code",
      "source": [
        "from sklearn.preprocessing import MinMaxScaler\n",
        "sc = MinMaxScaler(feature_range = (0,1))\n",
        "training_scaled = sc.fit_transform(trainset)"
      ],
      "metadata": {
        "id": "3w3vqIrG5848"
      },
      "execution_count": 32,
      "outputs": []
    },
    {
      "cell_type": "code",
      "source": [
        "training_scaled"
      ],
      "metadata": {
        "colab": {
          "base_uri": "https://localhost:8080/"
        },
        "id": "JlLv798g6ASX",
        "outputId": "8d782889-1d5b-4215-f3e2-72d1f4553542"
      },
      "execution_count": 33,
      "outputs": [
        {
          "output_type": "execute_result",
          "data": {
            "text/plain": [
              "array([[0.01011148],\n",
              "       [0.01388614],\n",
              "       [0.01690727],\n",
              "       ...,\n",
              "       [0.97543954],\n",
              "       [0.9674549 ],\n",
              "       [0.96072522]])"
            ]
          },
          "metadata": {},
          "execution_count": 33
        }
      ]
    },
    {
      "cell_type": "code",
      "source": [
        "x_train = []\n",
        "y_train = []"
      ],
      "metadata": {
        "id": "h_x2QTgd6Czd"
      },
      "execution_count": 34,
      "outputs": []
    },
    {
      "cell_type": "code",
      "source": [
        "for i in range(60,1259):\n",
        "    x_train.append(training_scaled[i-60:i, 0])\n",
        "    y_train.append(training_scaled[i,0])\n",
        "x_train,y_train = np.array(x_train),np.array(y_train)"
      ],
      "metadata": {
        "id": "kC63AvT_6Fi9"
      },
      "execution_count": 35,
      "outputs": []
    },
    {
      "cell_type": "code",
      "source": [
        "x_train.shape"
      ],
      "metadata": {
        "colab": {
          "base_uri": "https://localhost:8080/"
        },
        "id": "J2_cCw2o6H2u",
        "outputId": "562e8313-9170-464f-e1a0-b5633d405e9e"
      },
      "execution_count": 36,
      "outputs": [
        {
          "output_type": "execute_result",
          "data": {
            "text/plain": [
              "(1199, 60)"
            ]
          },
          "metadata": {},
          "execution_count": 36
        }
      ]
    },
    {
      "cell_type": "code",
      "source": [
        "x_train = np.reshape(x_train, (x_train.shape[0],x_train.shape[1],1))"
      ],
      "metadata": {
        "id": "vX1yeTdt6Ju5"
      },
      "execution_count": 37,
      "outputs": []
    },
    {
      "cell_type": "code",
      "source": [
        "from keras.models import Sequential\n",
        "from keras.layers import Dense\n",
        "from keras.layers import LSTM\n",
        "from keras.layers import Dropout\n"
      ],
      "metadata": {
        "id": "Jr3GeG9G6Lsz"
      },
      "execution_count": 38,
      "outputs": []
    },
    {
      "cell_type": "code",
      "source": [
        "regressor = Sequential()\n",
        "regressor.add(LSTM(units = 50,return_sequences = True,input_shape = (x_train.shape[1],1)))"
      ],
      "metadata": {
        "id": "P-MfOhXw6Rsq"
      },
      "execution_count": 39,
      "outputs": []
    },
    {
      "cell_type": "code",
      "source": [
        "regressor.add(Dropout(0.2))"
      ],
      "metadata": {
        "id": "3zApASbD6UbA"
      },
      "execution_count": 40,
      "outputs": []
    },
    {
      "cell_type": "code",
      "source": [
        "regressor.add(LSTM(units = 50,return_sequences = True))\n",
        "regressor.add(Dropout(0.2))"
      ],
      "metadata": {
        "id": "NBbHSyQG6W4z"
      },
      "execution_count": 41,
      "outputs": []
    },
    {
      "cell_type": "code",
      "source": [
        "regressor.add(LSTM(units = 50,return_sequences = True))\n",
        "regressor.add(Dropout(0.2))"
      ],
      "metadata": {
        "id": "8uOPgk856ZPJ"
      },
      "execution_count": 42,
      "outputs": []
    },
    {
      "cell_type": "code",
      "source": [
        "regressor.add(LSTM(units = 50))\n",
        "regressor.add(Dropout(0.2))"
      ],
      "metadata": {
        "id": "OKneQRHb6bc-"
      },
      "execution_count": 43,
      "outputs": []
    },
    {
      "cell_type": "code",
      "source": [
        "regressor.add(Dense(units = 1))"
      ],
      "metadata": {
        "id": "AnDRdjfB6d-h"
      },
      "execution_count": 44,
      "outputs": []
    },
    {
      "cell_type": "code",
      "source": [
        "regressor.compile(optimizer = 'adam',loss = 'mean_squared_error')"
      ],
      "metadata": {
        "id": "b1mJ43cV6fiq"
      },
      "execution_count": 45,
      "outputs": []
    },
    {
      "cell_type": "code",
      "source": [
        "regressor.fit(x_train,y_train,epochs = 100, batch_size = 32)"
      ],
      "metadata": {
        "colab": {
          "base_uri": "https://localhost:8080/"
        },
        "id": "ee_-GWaV6hhN",
        "outputId": "4a395bc3-d7da-439d-bda8-35da8315985d"
      },
      "execution_count": 46,
      "outputs": [
        {
          "output_type": "stream",
          "name": "stdout",
          "text": [
            "Epoch 1/100\n",
            "38/38 [==============================] - 14s 124ms/step - loss: 0.0259\n",
            "Epoch 2/100\n",
            "38/38 [==============================] - 5s 135ms/step - loss: 0.0051\n",
            "Epoch 3/100\n",
            "38/38 [==============================] - 5s 129ms/step - loss: 0.0041\n",
            "Epoch 4/100\n",
            "38/38 [==============================] - 5s 123ms/step - loss: 0.0041\n",
            "Epoch 5/100\n",
            "38/38 [==============================] - 5s 136ms/step - loss: 0.0033\n",
            "Epoch 6/100\n",
            "38/38 [==============================] - 5s 124ms/step - loss: 0.0035\n",
            "Epoch 7/100\n",
            "38/38 [==============================] - 5s 130ms/step - loss: 0.0035\n",
            "Epoch 8/100\n",
            "38/38 [==============================] - 6s 147ms/step - loss: 0.0033\n",
            "Epoch 9/100\n",
            "38/38 [==============================] - 5s 131ms/step - loss: 0.0033\n",
            "Epoch 10/100\n",
            "38/38 [==============================] - 5s 130ms/step - loss: 0.0031\n",
            "Epoch 11/100\n",
            "38/38 [==============================] - 5s 120ms/step - loss: 0.0029\n",
            "Epoch 12/100\n",
            "38/38 [==============================] - 5s 119ms/step - loss: 0.0035\n",
            "Epoch 13/100\n",
            "38/38 [==============================] - 4s 113ms/step - loss: 0.0031\n",
            "Epoch 14/100\n",
            "38/38 [==============================] - 5s 126ms/step - loss: 0.0029\n",
            "Epoch 15/100\n",
            "38/38 [==============================] - 5s 120ms/step - loss: 0.0033\n",
            "Epoch 16/100\n",
            "38/38 [==============================] - 4s 115ms/step - loss: 0.0030\n",
            "Epoch 17/100\n",
            "38/38 [==============================] - 5s 131ms/step - loss: 0.0032\n",
            "Epoch 18/100\n",
            "38/38 [==============================] - 4s 118ms/step - loss: 0.0024\n",
            "Epoch 19/100\n",
            "38/38 [==============================] - 5s 119ms/step - loss: 0.0024\n",
            "Epoch 20/100\n",
            "38/38 [==============================] - 4s 113ms/step - loss: 0.0028\n",
            "Epoch 21/100\n",
            "38/38 [==============================] - 4s 114ms/step - loss: 0.0031\n",
            "Epoch 22/100\n",
            "38/38 [==============================] - 4s 112ms/step - loss: 0.0026\n",
            "Epoch 23/100\n",
            "38/38 [==============================] - 4s 112ms/step - loss: 0.0027\n",
            "Epoch 24/100\n",
            "38/38 [==============================] - 4s 114ms/step - loss: 0.0023\n",
            "Epoch 25/100\n",
            "38/38 [==============================] - 4s 116ms/step - loss: 0.0022\n",
            "Epoch 26/100\n",
            "38/38 [==============================] - 4s 113ms/step - loss: 0.0021\n",
            "Epoch 27/100\n",
            "38/38 [==============================] - 4s 112ms/step - loss: 0.0026\n",
            "Epoch 28/100\n",
            "38/38 [==============================] - 4s 114ms/step - loss: 0.0020\n",
            "Epoch 29/100\n",
            "38/38 [==============================] - 4s 111ms/step - loss: 0.0021\n",
            "Epoch 30/100\n",
            "38/38 [==============================] - 4s 111ms/step - loss: 0.0021\n",
            "Epoch 31/100\n",
            "38/38 [==============================] - 4s 113ms/step - loss: 0.0020\n",
            "Epoch 32/100\n",
            "38/38 [==============================] - 4s 118ms/step - loss: 0.0024\n",
            "Epoch 33/100\n",
            "38/38 [==============================] - 4s 114ms/step - loss: 0.0021\n",
            "Epoch 34/100\n",
            "38/38 [==============================] - 4s 114ms/step - loss: 0.0020\n",
            "Epoch 35/100\n",
            "38/38 [==============================] - 4s 117ms/step - loss: 0.0019\n",
            "Epoch 36/100\n",
            "38/38 [==============================] - 5s 145ms/step - loss: 0.0021\n",
            "Epoch 37/100\n",
            "38/38 [==============================] - 4s 112ms/step - loss: 0.0020\n",
            "Epoch 38/100\n",
            "38/38 [==============================] - 4s 117ms/step - loss: 0.0020\n",
            "Epoch 39/100\n",
            "38/38 [==============================] - 4s 114ms/step - loss: 0.0023\n",
            "Epoch 40/100\n",
            "38/38 [==============================] - 4s 111ms/step - loss: 0.0021\n",
            "Epoch 41/100\n",
            "38/38 [==============================] - 4s 117ms/step - loss: 0.0017\n",
            "Epoch 42/100\n",
            "38/38 [==============================] - 4s 116ms/step - loss: 0.0019\n",
            "Epoch 43/100\n",
            "38/38 [==============================] - 4s 115ms/step - loss: 0.0018\n",
            "Epoch 44/100\n",
            "38/38 [==============================] - 4s 111ms/step - loss: 0.0018\n",
            "Epoch 45/100\n",
            "38/38 [==============================] - 4s 114ms/step - loss: 0.0018\n",
            "Epoch 46/100\n",
            "38/38 [==============================] - 4s 112ms/step - loss: 0.0017\n",
            "Epoch 47/100\n",
            "38/38 [==============================] - 4s 114ms/step - loss: 0.0018\n",
            "Epoch 48/100\n",
            "38/38 [==============================] - 4s 118ms/step - loss: 0.0018\n",
            "Epoch 49/100\n",
            "38/38 [==============================] - 5s 120ms/step - loss: 0.0015\n",
            "Epoch 50/100\n",
            "38/38 [==============================] - 4s 117ms/step - loss: 0.0017\n",
            "Epoch 51/100\n",
            "38/38 [==============================] - 4s 114ms/step - loss: 0.0021\n",
            "Epoch 52/100\n",
            "38/38 [==============================] - 4s 116ms/step - loss: 0.0017\n",
            "Epoch 53/100\n",
            "38/38 [==============================] - 4s 113ms/step - loss: 0.0016\n",
            "Epoch 54/100\n",
            "38/38 [==============================] - 4s 113ms/step - loss: 0.0017\n",
            "Epoch 55/100\n",
            "38/38 [==============================] - 4s 114ms/step - loss: 0.0016\n",
            "Epoch 56/100\n",
            "38/38 [==============================] - 4s 116ms/step - loss: 0.0016\n",
            "Epoch 57/100\n",
            "38/38 [==============================] - 4s 114ms/step - loss: 0.0016\n",
            "Epoch 58/100\n",
            "38/38 [==============================] - 4s 113ms/step - loss: 0.0016\n",
            "Epoch 59/100\n",
            "38/38 [==============================] - 4s 116ms/step - loss: 0.0015\n",
            "Epoch 60/100\n",
            "38/38 [==============================] - 5s 121ms/step - loss: 0.0014\n",
            "Epoch 61/100\n",
            "38/38 [==============================] - 4s 115ms/step - loss: 0.0015\n",
            "Epoch 62/100\n",
            "38/38 [==============================] - 5s 120ms/step - loss: 0.0017\n",
            "Epoch 63/100\n",
            "38/38 [==============================] - 5s 119ms/step - loss: 0.0017\n",
            "Epoch 64/100\n",
            "38/38 [==============================] - 5s 123ms/step - loss: 0.0015\n",
            "Epoch 65/100\n",
            "38/38 [==============================] - 5s 124ms/step - loss: 0.0013\n",
            "Epoch 66/100\n",
            "38/38 [==============================] - 4s 118ms/step - loss: 0.0013\n",
            "Epoch 67/100\n",
            "38/38 [==============================] - 4s 117ms/step - loss: 0.0014\n",
            "Epoch 68/100\n",
            "38/38 [==============================] - 5s 126ms/step - loss: 0.0014\n",
            "Epoch 69/100\n",
            "38/38 [==============================] - 5s 121ms/step - loss: 0.0014\n",
            "Epoch 70/100\n",
            "38/38 [==============================] - 4s 117ms/step - loss: 0.0014\n",
            "Epoch 71/100\n",
            "38/38 [==============================] - 4s 117ms/step - loss: 0.0013\n",
            "Epoch 72/100\n",
            "38/38 [==============================] - 5s 120ms/step - loss: 0.0013\n",
            "Epoch 73/100\n",
            "38/38 [==============================] - 5s 120ms/step - loss: 0.0013\n",
            "Epoch 74/100\n",
            "38/38 [==============================] - 4s 118ms/step - loss: 0.0016\n",
            "Epoch 75/100\n",
            "38/38 [==============================] - 5s 121ms/step - loss: 0.0012\n",
            "Epoch 76/100\n",
            "38/38 [==============================] - 6s 153ms/step - loss: 0.0012\n",
            "Epoch 77/100\n",
            "38/38 [==============================] - 5s 119ms/step - loss: 0.0014\n",
            "Epoch 78/100\n",
            "38/38 [==============================] - 5s 123ms/step - loss: 0.0013\n",
            "Epoch 79/100\n",
            "38/38 [==============================] - 5s 120ms/step - loss: 0.0012\n",
            "Epoch 80/100\n",
            "38/38 [==============================] - 5s 119ms/step - loss: 0.0014\n",
            "Epoch 81/100\n",
            "38/38 [==============================] - 5s 132ms/step - loss: 0.0013\n",
            "Epoch 82/100\n",
            "38/38 [==============================] - 5s 125ms/step - loss: 0.0012\n",
            "Epoch 83/100\n",
            "38/38 [==============================] - 5s 122ms/step - loss: 0.0012\n",
            "Epoch 84/100\n",
            "38/38 [==============================] - 5s 119ms/step - loss: 0.0012\n",
            "Epoch 85/100\n",
            "38/38 [==============================] - 5s 123ms/step - loss: 0.0012\n",
            "Epoch 86/100\n",
            "38/38 [==============================] - 5s 119ms/step - loss: 0.0011\n",
            "Epoch 87/100\n",
            "38/38 [==============================] - 4s 118ms/step - loss: 0.0011\n",
            "Epoch 88/100\n",
            "38/38 [==============================] - 5s 123ms/step - loss: 0.0011\n",
            "Epoch 89/100\n",
            "38/38 [==============================] - 5s 121ms/step - loss: 9.8144e-04\n",
            "Epoch 90/100\n",
            "38/38 [==============================] - 5s 121ms/step - loss: 0.0011\n",
            "Epoch 91/100\n",
            "38/38 [==============================] - 4s 118ms/step - loss: 0.0011\n",
            "Epoch 92/100\n",
            "38/38 [==============================] - 5s 119ms/step - loss: 0.0011\n",
            "Epoch 93/100\n",
            "38/38 [==============================] - 5s 119ms/step - loss: 0.0012\n",
            "Epoch 94/100\n",
            "38/38 [==============================] - 5s 120ms/step - loss: 9.3698e-04\n",
            "Epoch 95/100\n",
            "38/38 [==============================] - 5s 119ms/step - loss: 0.0011\n",
            "Epoch 96/100\n",
            "38/38 [==============================] - 5s 120ms/step - loss: 0.0012\n",
            "Epoch 97/100\n",
            "38/38 [==============================] - 5s 119ms/step - loss: 0.0011\n",
            "Epoch 98/100\n",
            "38/38 [==============================] - 5s 122ms/step - loss: 0.0010\n",
            "Epoch 99/100\n",
            "38/38 [==============================] - 5s 123ms/step - loss: 9.7487e-04\n",
            "Epoch 100/100\n",
            "38/38 [==============================] - 5s 120ms/step - loss: 0.0011\n"
          ]
        },
        {
          "output_type": "execute_result",
          "data": {
            "text/plain": [
              "<keras.callbacks.History at 0x7f62228a91f0>"
            ]
          },
          "metadata": {},
          "execution_count": 46
        }
      ]
    },
    {
      "cell_type": "code",
      "source": [
        "dataset_test =pd.read_csv(\"testset.csv\")"
      ],
      "metadata": {
        "id": "HBv1GR5S6jd0"
      },
      "execution_count": 48,
      "outputs": []
    },
    {
      "cell_type": "code",
      "source": [
        "real_stock_price = dataset_test.iloc[:,1:2].values"
      ],
      "metadata": {
        "id": "pEbfoV608elj"
      },
      "execution_count": 49,
      "outputs": []
    },
    {
      "cell_type": "code",
      "source": [
        "dataset_total = pd.concat((dataset_train['Open'],dataset_test['Open']),axis = 0)\n",
        "dataset_total"
      ],
      "metadata": {
        "colab": {
          "base_uri": "https://localhost:8080/"
        },
        "id": "0MEkuGPA8jSv",
        "outputId": "6c2e355f-0a69-4084-925e-b08d89dd86dc"
      },
      "execution_count": 50,
      "outputs": [
        {
          "output_type": "execute_result",
          "data": {
            "text/plain": [
              "0       357.385559\n",
              "1       360.122742\n",
              "2       362.313507\n",
              "3       365.348755\n",
              "4       365.393463\n",
              "          ...     \n",
              "120    1143.599976\n",
              "121    1128.000000\n",
              "122    1121.339966\n",
              "123    1102.089966\n",
              "124    1120.000000\n",
              "Name: Open, Length: 1384, dtype: float64"
            ]
          },
          "metadata": {},
          "execution_count": 50
        }
      ]
    },
    {
      "cell_type": "code",
      "source": [
        "inputs = dataset_total[len(dataset_total) - len(dataset_test)-60:].values\n",
        "inputs"
      ],
      "metadata": {
        "colab": {
          "base_uri": "https://localhost:8080/"
        },
        "id": "TfFliKDf8loG",
        "outputId": "016d6644-848c-4329-db56-df76d0570c4b"
      },
      "execution_count": 51,
      "outputs": [
        {
          "output_type": "execute_result",
          "data": {
            "text/plain": [
              "array([ 955.48999 ,  966.700012,  980.      ,  980.      ,  973.719971,\n",
              "        987.450012,  992.      ,  992.099976,  990.289978,  991.77002 ,\n",
              "        986.      ,  989.440002,  989.52002 ,  970.      ,  968.369995,\n",
              "        980.      , 1009.190002, 1014.      , 1015.219971, 1017.210022,\n",
              "       1021.76001 , 1022.109985, 1028.98999 , 1027.27002 , 1030.52002 ,\n",
              "       1033.98999 , 1026.459961, 1023.419983, 1022.590027, 1019.210022,\n",
              "       1022.52002 , 1034.01001 , 1020.26001 , 1023.309998, 1035.      ,\n",
              "       1035.869995, 1040.      , 1055.089966, 1042.680054, 1022.369995,\n",
              "       1015.799988, 1012.659973,  995.940002, 1001.5     , 1020.429993,\n",
              "       1037.48999 , 1035.5     , 1039.630005, 1046.119995, 1045.      ,\n",
              "       1054.609985, 1066.079956, 1075.199951, 1071.780029, 1064.949951,\n",
              "       1061.109985, 1058.069946, 1057.390015, 1051.599976, 1046.719971,\n",
              "       1048.339966, 1064.310059, 1088.      , 1094.      , 1102.22998 ,\n",
              "       1109.400024, 1097.099976, 1106.300049, 1102.410034, 1132.51001 ,\n",
              "       1126.219971, 1131.410034, 1131.829956, 1137.48999 , 1159.849976,\n",
              "       1177.329956, 1172.530029, 1175.079956, 1176.47998 , 1167.829956,\n",
              "       1170.569946, 1162.609985, 1122.      , 1090.599976, 1027.180054,\n",
              "       1081.540039, 1055.410034, 1017.25    , 1048.      , 1045.      ,\n",
              "       1048.949951, 1079.069946, 1088.410034, 1090.569946, 1106.469971,\n",
              "       1116.189941, 1112.640015, 1127.800049, 1141.23999 , 1123.030029,\n",
              "       1107.869995, 1053.079956, 1075.140015, 1099.219971, 1089.189941,\n",
              "       1115.319946, 1136.      , 1163.849976, 1170.      , 1145.209961,\n",
              "       1149.959961, 1154.140015, 1120.01001 , 1099.      , 1092.73999 ,\n",
              "       1081.880005, 1047.030029, 1046.      , 1063.      ,  998.      ,\n",
              "       1011.630005, 1022.820007, 1013.909973,  993.409973, 1041.329956,\n",
              "       1020.      , 1016.799988, 1026.439941, 1027.98999 , 1025.040039,\n",
              "       1040.880005, 1037.      , 1051.369995, 1077.430054, 1069.400024,\n",
              "       1082.      , 1077.859985, 1052.      , 1025.52002 , 1029.51001 ,\n",
              "       1046.      , 1030.01001 , 1013.659973, 1028.099976, 1019.      ,\n",
              "       1016.900024, 1049.22998 , 1058.540039, 1058.099976, 1086.030029,\n",
              "       1093.599976, 1100.      , 1090.      , 1077.310059, 1079.890015,\n",
              "       1061.859985, 1074.060059, 1083.560059, 1065.130005, 1079.      ,\n",
              "       1079.02002 , 1064.890015, 1063.030029, 1067.560059, 1099.349976,\n",
              "       1122.329956, 1140.98999 , 1142.170044, 1131.319946, 1118.180054,\n",
              "       1118.599976, 1131.069946, 1141.119995, 1143.849976, 1148.859985,\n",
              "       1143.650024, 1158.5     , 1175.310059, 1174.849976, 1159.140015,\n",
              "       1143.599976, 1128.      , 1121.339966, 1102.089966, 1120.      ])"
            ]
          },
          "metadata": {},
          "execution_count": 51
        }
      ]
    },
    {
      "cell_type": "code",
      "source": [
        "inputs = inputs.reshape(-1,1)"
      ],
      "metadata": {
        "id": "a87xnILo8rnC"
      },
      "execution_count": 52,
      "outputs": []
    },
    {
      "cell_type": "code",
      "source": [
        "inputs"
      ],
      "metadata": {
        "colab": {
          "base_uri": "https://localhost:8080/"
        },
        "id": "5t7CS5668ufA",
        "outputId": "b3ff6866-dd61-4c7b-e277-4bd9783512d1"
      },
      "execution_count": 53,
      "outputs": [
        {
          "output_type": "execute_result",
          "data": {
            "text/plain": [
              "array([[ 955.48999 ],\n",
              "       [ 966.700012],\n",
              "       [ 980.      ],\n",
              "       [ 980.      ],\n",
              "       [ 973.719971],\n",
              "       [ 987.450012],\n",
              "       [ 992.      ],\n",
              "       [ 992.099976],\n",
              "       [ 990.289978],\n",
              "       [ 991.77002 ],\n",
              "       [ 986.      ],\n",
              "       [ 989.440002],\n",
              "       [ 989.52002 ],\n",
              "       [ 970.      ],\n",
              "       [ 968.369995],\n",
              "       [ 980.      ],\n",
              "       [1009.190002],\n",
              "       [1014.      ],\n",
              "       [1015.219971],\n",
              "       [1017.210022],\n",
              "       [1021.76001 ],\n",
              "       [1022.109985],\n",
              "       [1028.98999 ],\n",
              "       [1027.27002 ],\n",
              "       [1030.52002 ],\n",
              "       [1033.98999 ],\n",
              "       [1026.459961],\n",
              "       [1023.419983],\n",
              "       [1022.590027],\n",
              "       [1019.210022],\n",
              "       [1022.52002 ],\n",
              "       [1034.01001 ],\n",
              "       [1020.26001 ],\n",
              "       [1023.309998],\n",
              "       [1035.      ],\n",
              "       [1035.869995],\n",
              "       [1040.      ],\n",
              "       [1055.089966],\n",
              "       [1042.680054],\n",
              "       [1022.369995],\n",
              "       [1015.799988],\n",
              "       [1012.659973],\n",
              "       [ 995.940002],\n",
              "       [1001.5     ],\n",
              "       [1020.429993],\n",
              "       [1037.48999 ],\n",
              "       [1035.5     ],\n",
              "       [1039.630005],\n",
              "       [1046.119995],\n",
              "       [1045.      ],\n",
              "       [1054.609985],\n",
              "       [1066.079956],\n",
              "       [1075.199951],\n",
              "       [1071.780029],\n",
              "       [1064.949951],\n",
              "       [1061.109985],\n",
              "       [1058.069946],\n",
              "       [1057.390015],\n",
              "       [1051.599976],\n",
              "       [1046.719971],\n",
              "       [1048.339966],\n",
              "       [1064.310059],\n",
              "       [1088.      ],\n",
              "       [1094.      ],\n",
              "       [1102.22998 ],\n",
              "       [1109.400024],\n",
              "       [1097.099976],\n",
              "       [1106.300049],\n",
              "       [1102.410034],\n",
              "       [1132.51001 ],\n",
              "       [1126.219971],\n",
              "       [1131.410034],\n",
              "       [1131.829956],\n",
              "       [1137.48999 ],\n",
              "       [1159.849976],\n",
              "       [1177.329956],\n",
              "       [1172.530029],\n",
              "       [1175.079956],\n",
              "       [1176.47998 ],\n",
              "       [1167.829956],\n",
              "       [1170.569946],\n",
              "       [1162.609985],\n",
              "       [1122.      ],\n",
              "       [1090.599976],\n",
              "       [1027.180054],\n",
              "       [1081.540039],\n",
              "       [1055.410034],\n",
              "       [1017.25    ],\n",
              "       [1048.      ],\n",
              "       [1045.      ],\n",
              "       [1048.949951],\n",
              "       [1079.069946],\n",
              "       [1088.410034],\n",
              "       [1090.569946],\n",
              "       [1106.469971],\n",
              "       [1116.189941],\n",
              "       [1112.640015],\n",
              "       [1127.800049],\n",
              "       [1141.23999 ],\n",
              "       [1123.030029],\n",
              "       [1107.869995],\n",
              "       [1053.079956],\n",
              "       [1075.140015],\n",
              "       [1099.219971],\n",
              "       [1089.189941],\n",
              "       [1115.319946],\n",
              "       [1136.      ],\n",
              "       [1163.849976],\n",
              "       [1170.      ],\n",
              "       [1145.209961],\n",
              "       [1149.959961],\n",
              "       [1154.140015],\n",
              "       [1120.01001 ],\n",
              "       [1099.      ],\n",
              "       [1092.73999 ],\n",
              "       [1081.880005],\n",
              "       [1047.030029],\n",
              "       [1046.      ],\n",
              "       [1063.      ],\n",
              "       [ 998.      ],\n",
              "       [1011.630005],\n",
              "       [1022.820007],\n",
              "       [1013.909973],\n",
              "       [ 993.409973],\n",
              "       [1041.329956],\n",
              "       [1020.      ],\n",
              "       [1016.799988],\n",
              "       [1026.439941],\n",
              "       [1027.98999 ],\n",
              "       [1025.040039],\n",
              "       [1040.880005],\n",
              "       [1037.      ],\n",
              "       [1051.369995],\n",
              "       [1077.430054],\n",
              "       [1069.400024],\n",
              "       [1082.      ],\n",
              "       [1077.859985],\n",
              "       [1052.      ],\n",
              "       [1025.52002 ],\n",
              "       [1029.51001 ],\n",
              "       [1046.      ],\n",
              "       [1030.01001 ],\n",
              "       [1013.659973],\n",
              "       [1028.099976],\n",
              "       [1019.      ],\n",
              "       [1016.900024],\n",
              "       [1049.22998 ],\n",
              "       [1058.540039],\n",
              "       [1058.099976],\n",
              "       [1086.030029],\n",
              "       [1093.599976],\n",
              "       [1100.      ],\n",
              "       [1090.      ],\n",
              "       [1077.310059],\n",
              "       [1079.890015],\n",
              "       [1061.859985],\n",
              "       [1074.060059],\n",
              "       [1083.560059],\n",
              "       [1065.130005],\n",
              "       [1079.      ],\n",
              "       [1079.02002 ],\n",
              "       [1064.890015],\n",
              "       [1063.030029],\n",
              "       [1067.560059],\n",
              "       [1099.349976],\n",
              "       [1122.329956],\n",
              "       [1140.98999 ],\n",
              "       [1142.170044],\n",
              "       [1131.319946],\n",
              "       [1118.180054],\n",
              "       [1118.599976],\n",
              "       [1131.069946],\n",
              "       [1141.119995],\n",
              "       [1143.849976],\n",
              "       [1148.859985],\n",
              "       [1143.650024],\n",
              "       [1158.5     ],\n",
              "       [1175.310059],\n",
              "       [1174.849976],\n",
              "       [1159.140015],\n",
              "       [1143.599976],\n",
              "       [1128.      ],\n",
              "       [1121.339966],\n",
              "       [1102.089966],\n",
              "       [1120.      ]])"
            ]
          },
          "metadata": {},
          "execution_count": 53
        }
      ]
    },
    {
      "cell_type": "code",
      "source": [
        "inputs = sc.transform(inputs)\n",
        "inputs.shape"
      ],
      "metadata": {
        "colab": {
          "base_uri": "https://localhost:8080/"
        },
        "id": "NRW_lZ838wrS",
        "outputId": "d949b8e9-bfb1-439c-b0a4-e45799d826d5"
      },
      "execution_count": 54,
      "outputs": [
        {
          "output_type": "execute_result",
          "data": {
            "text/plain": [
              "(185, 1)"
            ]
          },
          "metadata": {},
          "execution_count": 54
        }
      ]
    },
    {
      "cell_type": "code",
      "source": [
        "x_test = []\n",
        "for i in range(60,185):\n",
        "    x_test.append(inputs[i-60:i,0])"
      ],
      "metadata": {
        "id": "srjuxmVx81Ju"
      },
      "execution_count": 55,
      "outputs": []
    },
    {
      "cell_type": "code",
      "source": [
        "x_test = np.array(x_test)\n",
        "x_test.shape\n"
      ],
      "metadata": {
        "colab": {
          "base_uri": "https://localhost:8080/"
        },
        "id": "duRZi1Hz83LX",
        "outputId": "da240926-daca-4413-c0c6-0349c23535b5"
      },
      "execution_count": 56,
      "outputs": [
        {
          "output_type": "execute_result",
          "data": {
            "text/plain": [
              "(125, 60)"
            ]
          },
          "metadata": {},
          "execution_count": 56
        }
      ]
    },
    {
      "cell_type": "code",
      "source": [
        "x_test = np.reshape(x_test, (x_test.shape[0],x_test.shape[1],1))\n",
        "x_test.shape"
      ],
      "metadata": {
        "colab": {
          "base_uri": "https://localhost:8080/"
        },
        "id": "4XSW553d85oR",
        "outputId": "3fce733b-f86a-4125-c668-976f4b0993f9"
      },
      "execution_count": 57,
      "outputs": [
        {
          "output_type": "execute_result",
          "data": {
            "text/plain": [
              "(125, 60, 1)"
            ]
          },
          "metadata": {},
          "execution_count": 57
        }
      ]
    },
    {
      "cell_type": "code",
      "source": [
        "predicted_price = regressor.predict(x_test)"
      ],
      "metadata": {
        "colab": {
          "base_uri": "https://localhost:8080/"
        },
        "id": "62MHm9ZS87e-",
        "outputId": "dda4a114-7923-4abd-e6f3-f260b11da6d1"
      },
      "execution_count": 58,
      "outputs": [
        {
          "output_type": "stream",
          "name": "stdout",
          "text": [
            "4/4 [==============================] - 3s 38ms/step\n"
          ]
        }
      ]
    },
    {
      "cell_type": "code",
      "source": [
        "predicted_price = sc.inverse_transform(predicted_price)\n",
        "predicted_price\n"
      ],
      "metadata": {
        "colab": {
          "base_uri": "https://localhost:8080/"
        },
        "id": "SABgXZaE89tT",
        "outputId": "a76fafc9-5ce9-42b4-cb2e-488758f022d7"
      },
      "execution_count": 59,
      "outputs": [
        {
          "output_type": "execute_result",
          "data": {
            "text/plain": [
              "array([[1011.3764 ],\n",
              "       [1009.77893],\n",
              "       [1011.4794 ],\n",
              "       [1018.6505 ],\n",
              "       [1028.4395 ],\n",
              "       [1038.011  ],\n",
              "       [1045.9133 ],\n",
              "       [1049.2196 ],\n",
              "       [1050.3453 ],\n",
              "       [1050.1593 ],\n",
              "       [1054.0685 ],\n",
              "       [1059.4927 ],\n",
              "       [1064.8431 ],\n",
              "       [1068.9268 ],\n",
              "       [1072.2983 ],\n",
              "       [1078.1753 ],\n",
              "       [1087.3729 ],\n",
              "       [1095.6957 ],\n",
              "       [1101.4774 ],\n",
              "       [1104.8481 ],\n",
              "       [1105.2838 ],\n",
              "       [1104.7137 ],\n",
              "       [1103.2073 ],\n",
              "       [1096.0007 ],\n",
              "       [1082.4197 ],\n",
              "       [1059.7848 ],\n",
              "       [1043.9481 ],\n",
              "       [1034.9333 ],\n",
              "       [1025.7827 ],\n",
              "       [1020.94525],\n",
              "       [1019.934  ],\n",
              "       [1021.2639 ],\n",
              "       [1027.2096 ],\n",
              "       [1035.8452 ],\n",
              "       [1043.5354 ],\n",
              "       [1050.4011 ],\n",
              "       [1056.6685 ],\n",
              "       [1060.6814 ],\n",
              "       [1064.5321 ],\n",
              "       [1069.9032 ],\n",
              "       [1072.5961 ],\n",
              "       [1070.4812 ],\n",
              "       [1058.4152 ],\n",
              "       [1046.0023 ],\n",
              "       [1041.642  ],\n",
              "       [1042.7957 ],\n",
              "       [1049.675  ],\n",
              "       [1061.0741 ],\n",
              "       [1076.05   ],\n",
              "       [1090.0613 ],\n",
              "       [1095.8732 ],\n",
              "       [1095.798  ],\n",
              "       [1093.9518 ],\n",
              "       [1087.5839 ],\n",
              "       [1076.9326 ],\n",
              "       [1065.6812 ],\n",
              "       [1055.866  ],\n",
              "       [1044.4662 ],\n",
              "       [1033.807  ],\n",
              "       [1028.6565 ],\n",
              "       [1019.3096 ],\n",
              "       [1009.08374],\n",
              "       [1002.69904],\n",
              "       [ 999.2128 ],\n",
              "       [ 994.433  ],\n",
              "       [ 995.45654],\n",
              "       [ 997.73395],\n",
              "       [ 998.24805],\n",
              "       [ 998.22064],\n",
              "       [ 998.25604],\n",
              "       [ 997.81177],\n",
              "       [ 999.2098 ],\n",
              "       [1001.1388 ],\n",
              "       [1004.62854],\n",
              "       [1012.24005],\n",
              "       [1019.689  ],\n",
              "       [1026.3475 ],\n",
              "       [1030.5092 ],\n",
              "       [1028.441  ],\n",
              "       [1019.1059 ],\n",
              "       [1008.3332 ],\n",
              "       [1002.744  ],\n",
              "       [1000.22406],\n",
              "       [ 996.8978 ],\n",
              "       [ 995.04926],\n",
              "       [ 993.6282 ],\n",
              "       [ 992.0618 ],\n",
              "       [ 995.2206 ],\n",
              "       [1002.58856],\n",
              "       [1010.16315],\n",
              "       [1019.3758 ],\n",
              "       [1028.8635 ],\n",
              "       [1037.0387 ],\n",
              "       [1040.9838 ],\n",
              "       [1039.5765 ],\n",
              "       [1036.0316 ],\n",
              "       [1030.3445 ],\n",
              "       [1026.6364 ],\n",
              "       [1027.1692 ],\n",
              "       [1027.6731 ],\n",
              "       [1029.2404 ],\n",
              "       [1031.4072 ],\n",
              "       [1031.3185 ],\n",
              "       [1029.2325 ],\n",
              "       [1027.3047 ],\n",
              "       [1030.9789 ],\n",
              "       [1041.2872 ],\n",
              "       [1055.5812 ],\n",
              "       [1068.2611 ],\n",
              "       [1074.6904 ],\n",
              "       [1073.9717 ],\n",
              "       [1069.9016 ],\n",
              "       [1067.7386 ],\n",
              "       [1069.6871 ],\n",
              "       [1074.2539 ],\n",
              "       [1079.7252 ],\n",
              "       [1083.5441 ],\n",
              "       [1087.5817 ],\n",
              "       [1093.829  ],\n",
              "       [1100.1897 ],\n",
              "       [1102.6088 ],\n",
              "       [1099.7361 ],\n",
              "       [1092.5876 ],\n",
              "       [1084.2532 ],\n",
              "       [1075.1139 ]], dtype=float32)"
            ]
          },
          "metadata": {},
          "execution_count": 59
        }
      ]
    },
    {
      "cell_type": "code",
      "source": [
        "plt.plot(real_stock_price,color = 'red', label = 'Real Price')\n",
        "plt.plot(predicted_price, color = 'blue', label = 'Predicted Price')\n",
        "plt.title('Google Stock Price Prediction')\n",
        "plt.xlabel('Time')\n",
        "plt.ylabel('Google Stock Price')\n",
        "plt.legend()\n",
        "plt.show()\n"
      ],
      "metadata": {
        "colab": {
          "base_uri": "https://localhost:8080/",
          "height": 295
        },
        "id": "LuRD3ErG9AZt",
        "outputId": "5c1f8431-c2b8-4812-db2b-ae31bd3d5369"
      },
      "execution_count": 60,
      "outputs": [
        {
          "output_type": "display_data",
          "data": {
            "text/plain": [
              "<Figure size 432x288 with 1 Axes>"
            ],
            "image/png": "[encoded data removed]"
          },
          "metadata": {
            "needs_background": "light"
          }
        }
      ]
    },
    {
      "cell_type": "code",
      "source": [],
      "metadata": {
        "id": "tgSEtBgA9DS7"
      },
      "execution_count": null,
      "outputs": []
    }
  ]
}